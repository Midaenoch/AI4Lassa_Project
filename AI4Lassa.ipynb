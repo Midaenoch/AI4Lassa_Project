{
 "cells": [
  {
   "cell_type": "code",
   "execution_count": 132,
   "id": "a5872f12",
   "metadata": {},
   "outputs": [],
   "source": [
    "# 1. Importing Libraries reqiured\n",
    "import pandas as pd\n",
    "import numpy as np\n",
    "from sklearn.model_selection import train_test_split\n",
    "from sklearn.ensemble import RandomForestClassifier\n",
    "from sklearn.tree import DecisionTreeClassifier\n",
    "from sklearn.svm import SVC\n",
    "from sklearn.metrics import accuracy_score, classification_report\n",
    "from sklearn.preprocessing import LabelEncoder, StandardScaler\n",
    "import matplotlib.pyplot as plt"
   ]
  },
  {
   "cell_type": "code",
   "execution_count": 133,
   "id": "9100387a",
   "metadata": {},
   "outputs": [],
   "source": [
    "# 2. Load Dataset\n",
    "data = pd.read_csv('../data/model_data/spatial_df/Lassa_spatialdataset_201219separateyears_labconfirmed.csv')\n"
   ]
  },
  {
   "cell_type": "code",
   "execution_count": 134,
   "id": "6ddf203a",
   "metadata": {},
   "outputs": [
    {
     "data": {
      "text/html": [
       "<div>\n",
       "<style scoped>\n",
       "    .dataframe tbody tr th:only-of-type {\n",
       "        vertical-align: middle;\n",
       "    }\n",
       "\n",
       "    .dataframe tbody tr th {\n",
       "        vertical-align: top;\n",
       "    }\n",
       "\n",
       "    .dataframe thead th {\n",
       "        text-align: right;\n",
       "    }\n",
       "</style>\n",
       "<table border=\"1\" class=\"dataframe\">\n",
       "  <thead>\n",
       "    <tr style=\"text-align: right;\">\n",
       "      <th></th>\n",
       "      <th>LGA</th>\n",
       "      <th>Year</th>\n",
       "      <th>admin1Name</th>\n",
       "      <th>Cases</th>\n",
       "      <th>Cases_SuspectedUnconfirmed</th>\n",
       "      <th>Reports_All</th>\n",
       "      <th>Any_Confirmed_Cases</th>\n",
       "      <th>Source</th>\n",
       "      <th>NumDiagCentres</th>\n",
       "      <th>LabDist</th>\n",
       "      <th>...</th>\n",
       "      <th>TotalPop2015_PropUrban</th>\n",
       "      <th>ImprovedHousingPrev_PopWeighted</th>\n",
       "      <th>Cropland_prop_ESA2015</th>\n",
       "      <th>Agri_prop_ESA2015</th>\n",
       "      <th>Urb_prop_ESA2015</th>\n",
       "      <th>Forest_prop_ESA2015</th>\n",
       "      <th>PovertyProp_Mean</th>\n",
       "      <th>PovertyProp_PopWeighted</th>\n",
       "      <th>Hospital_TravelTime</th>\n",
       "      <th>AllHealthFacility_TravelTime</th>\n",
       "    </tr>\n",
       "  </thead>\n",
       "  <tbody>\n",
       "    <tr>\n",
       "      <th>0</th>\n",
       "      <td>Aba North</td>\n",
       "      <td>2012</td>\n",
       "      <td>Abia</td>\n",
       "      <td>0</td>\n",
       "      <td>0</td>\n",
       "      <td>0</td>\n",
       "      <td>0</td>\n",
       "      <td>WER</td>\n",
       "      <td>2</td>\n",
       "      <td>223.150573</td>\n",
       "      <td>...</td>\n",
       "      <td>1.0</td>\n",
       "      <td>0.768702</td>\n",
       "      <td>0.106061</td>\n",
       "      <td>0.151515</td>\n",
       "      <td>0.848485</td>\n",
       "      <td>0.0</td>\n",
       "      <td>0.334344</td>\n",
       "      <td>0.30486</td>\n",
       "      <td>12.473343</td>\n",
       "      <td>1.109442</td>\n",
       "    </tr>\n",
       "    <tr>\n",
       "      <th>1</th>\n",
       "      <td>Aba North</td>\n",
       "      <td>2013</td>\n",
       "      <td>Abia</td>\n",
       "      <td>1</td>\n",
       "      <td>0</td>\n",
       "      <td>1</td>\n",
       "      <td>1</td>\n",
       "      <td>WER</td>\n",
       "      <td>2</td>\n",
       "      <td>223.150573</td>\n",
       "      <td>...</td>\n",
       "      <td>1.0</td>\n",
       "      <td>0.768702</td>\n",
       "      <td>0.106061</td>\n",
       "      <td>0.151515</td>\n",
       "      <td>0.848485</td>\n",
       "      <td>0.0</td>\n",
       "      <td>0.334344</td>\n",
       "      <td>0.30486</td>\n",
       "      <td>12.473343</td>\n",
       "      <td>1.109442</td>\n",
       "    </tr>\n",
       "    <tr>\n",
       "      <th>2</th>\n",
       "      <td>Aba North</td>\n",
       "      <td>2014</td>\n",
       "      <td>Abia</td>\n",
       "      <td>0</td>\n",
       "      <td>0</td>\n",
       "      <td>0</td>\n",
       "      <td>0</td>\n",
       "      <td>WER</td>\n",
       "      <td>2</td>\n",
       "      <td>223.150573</td>\n",
       "      <td>...</td>\n",
       "      <td>1.0</td>\n",
       "      <td>0.768702</td>\n",
       "      <td>0.106061</td>\n",
       "      <td>0.151515</td>\n",
       "      <td>0.848485</td>\n",
       "      <td>0.0</td>\n",
       "      <td>0.334344</td>\n",
       "      <td>0.30486</td>\n",
       "      <td>12.473343</td>\n",
       "      <td>1.109442</td>\n",
       "    </tr>\n",
       "    <tr>\n",
       "      <th>3</th>\n",
       "      <td>Aba North</td>\n",
       "      <td>2015</td>\n",
       "      <td>Abia</td>\n",
       "      <td>0</td>\n",
       "      <td>0</td>\n",
       "      <td>0</td>\n",
       "      <td>0</td>\n",
       "      <td>WER</td>\n",
       "      <td>2</td>\n",
       "      <td>223.150573</td>\n",
       "      <td>...</td>\n",
       "      <td>1.0</td>\n",
       "      <td>0.768702</td>\n",
       "      <td>0.106061</td>\n",
       "      <td>0.151515</td>\n",
       "      <td>0.848485</td>\n",
       "      <td>0.0</td>\n",
       "      <td>0.334344</td>\n",
       "      <td>0.30486</td>\n",
       "      <td>12.473343</td>\n",
       "      <td>1.109442</td>\n",
       "    </tr>\n",
       "    <tr>\n",
       "      <th>4</th>\n",
       "      <td>Aba North</td>\n",
       "      <td>2016</td>\n",
       "      <td>Abia</td>\n",
       "      <td>0</td>\n",
       "      <td>0</td>\n",
       "      <td>0</td>\n",
       "      <td>0</td>\n",
       "      <td>WER</td>\n",
       "      <td>2</td>\n",
       "      <td>223.150573</td>\n",
       "      <td>...</td>\n",
       "      <td>1.0</td>\n",
       "      <td>0.768702</td>\n",
       "      <td>0.106061</td>\n",
       "      <td>0.151515</td>\n",
       "      <td>0.848485</td>\n",
       "      <td>0.0</td>\n",
       "      <td>0.334344</td>\n",
       "      <td>0.30486</td>\n",
       "      <td>12.473343</td>\n",
       "      <td>1.109442</td>\n",
       "    </tr>\n",
       "  </tbody>\n",
       "</table>\n",
       "<p>5 rows × 47 columns</p>\n",
       "</div>"
      ],
      "text/plain": [
       "         LGA  Year admin1Name  Cases  Cases_SuspectedUnconfirmed  Reports_All  \\\n",
       "0  Aba North  2012       Abia      0                           0            0   \n",
       "1  Aba North  2013       Abia      1                           0            1   \n",
       "2  Aba North  2014       Abia      0                           0            0   \n",
       "3  Aba North  2015       Abia      0                           0            0   \n",
       "4  Aba North  2016       Abia      0                           0            0   \n",
       "\n",
       "   Any_Confirmed_Cases Source  NumDiagCentres     LabDist  ...  \\\n",
       "0                    0    WER               2  223.150573  ...   \n",
       "1                    1    WER               2  223.150573  ...   \n",
       "2                    0    WER               2  223.150573  ...   \n",
       "3                    0    WER               2  223.150573  ...   \n",
       "4                    0    WER               2  223.150573  ...   \n",
       "\n",
       "   TotalPop2015_PropUrban  ImprovedHousingPrev_PopWeighted  \\\n",
       "0                     1.0                         0.768702   \n",
       "1                     1.0                         0.768702   \n",
       "2                     1.0                         0.768702   \n",
       "3                     1.0                         0.768702   \n",
       "4                     1.0                         0.768702   \n",
       "\n",
       "   Cropland_prop_ESA2015  Agri_prop_ESA2015  Urb_prop_ESA2015  \\\n",
       "0               0.106061           0.151515          0.848485   \n",
       "1               0.106061           0.151515          0.848485   \n",
       "2               0.106061           0.151515          0.848485   \n",
       "3               0.106061           0.151515          0.848485   \n",
       "4               0.106061           0.151515          0.848485   \n",
       "\n",
       "   Forest_prop_ESA2015  PovertyProp_Mean  PovertyProp_PopWeighted  \\\n",
       "0                  0.0          0.334344                  0.30486   \n",
       "1                  0.0          0.334344                  0.30486   \n",
       "2                  0.0          0.334344                  0.30486   \n",
       "3                  0.0          0.334344                  0.30486   \n",
       "4                  0.0          0.334344                  0.30486   \n",
       "\n",
       "   Hospital_TravelTime  AllHealthFacility_TravelTime  \n",
       "0            12.473343                      1.109442  \n",
       "1            12.473343                      1.109442  \n",
       "2            12.473343                      1.109442  \n",
       "3            12.473343                      1.109442  \n",
       "4            12.473343                      1.109442  \n",
       "\n",
       "[5 rows x 47 columns]"
      ]
     },
     "execution_count": 134,
     "metadata": {},
     "output_type": "execute_result"
    }
   ],
   "source": [
    "data.head()"
   ]
  },
  {
   "cell_type": "code",
   "execution_count": 135,
   "id": "ed209e99",
   "metadata": {},
   "outputs": [
    {
     "name": "stdout",
     "output_type": "stream",
     "text": [
      "<class 'pandas.core.frame.DataFrame'>\n",
      "RangeIndex: 6192 entries, 0 to 6191\n",
      "Data columns (total 47 columns):\n",
      " #   Column                               Non-Null Count  Dtype  \n",
      "---  ------                               --------------  -----  \n",
      " 0   LGA                                  6192 non-null   object \n",
      " 1   Year                                 6192 non-null   int64  \n",
      " 2   admin1Name                           6192 non-null   object \n",
      " 3   Cases                                6192 non-null   int64  \n",
      " 4   Cases_SuspectedUnconfirmed           6192 non-null   int64  \n",
      " 5   Reports_All                          6192 non-null   int64  \n",
      " 6   Any_Confirmed_Cases                  6192 non-null   int64  \n",
      " 7   Source                               6192 non-null   object \n",
      " 8   NumDiagCentres                       6192 non-null   int64  \n",
      " 9   LabDist                              6192 non-null   float64\n",
      " 10  LabTravelTime                        6192 non-null   float64\n",
      " 11  TotalPopulation_ByYear               6192 non-null   float64\n",
      " 12  AgriProp_ESA                         6192 non-null   float64\n",
      " 13  UrbanProp_ESA                        6192 non-null   float64\n",
      " 14  ForestProp_ESA                       6192 non-null   float64\n",
      " 15  LGAarea_km2                          6192 non-null   float64\n",
      " 16  x                                    6192 non-null   float64\n",
      " 17  y                                    6192 non-null   float64\n",
      " 18  PrecipMeanAnnual_2011_2019_CHIRPS    6192 non-null   float64\n",
      " 19  PrecipMeanWettest_2011_2019_CHIRPS   6192 non-null   float64\n",
      " 20  PrecipMeanDriest_2011_2019_CHIRPS    6192 non-null   float64\n",
      " 21  PrecipMonthlyCoefv_2011_2019_CHIRPS  6192 non-null   float64\n",
      " 22  TempMeanAnnual_201119_NOAA           6192 non-null   float64\n",
      " 23  TempMonthlyCoefv_201118_NOAA         6192 non-null   float64\n",
      " 24  CHELSA_TempAnnualMean                6192 non-null   float64\n",
      " 25  CHELSA_TempSeasonality               6192 non-null   float64\n",
      " 26  CHELSA_TempMeanWarmestQ              6192 non-null   float64\n",
      " 27  CHELSA_PrecipTotalAnnual             6192 non-null   float64\n",
      " 28  CHELSA_PrecipSeasonality             6192 non-null   float64\n",
      " 29  CHELSA_PrecipWettestQ                6192 non-null   float64\n",
      " 30  CityTravTime_Mean                    6192 non-null   float64\n",
      " 31  HospitalDist_mean_km                 6192 non-null   float64\n",
      " 32  HealthFacilityDist_mean_km           6192 non-null   float64\n",
      " 33  TotalPop2015                         6192 non-null   float64\n",
      " 34  PopDens2015                          6192 non-null   float64\n",
      " 35  TotalUrbanPop2015                    6192 non-null   float64\n",
      " 36  TotalRuralPop2015                    6192 non-null   float64\n",
      " 37  TotalPop2015_PropUrban               6192 non-null   float64\n",
      " 38  ImprovedHousingPrev_PopWeighted      6192 non-null   float64\n",
      " 39  Cropland_prop_ESA2015                6192 non-null   float64\n",
      " 40  Agri_prop_ESA2015                    6192 non-null   float64\n",
      " 41  Urb_prop_ESA2015                     6192 non-null   float64\n",
      " 42  Forest_prop_ESA2015                  6192 non-null   float64\n",
      " 43  PovertyProp_Mean                     6192 non-null   float64\n",
      " 44  PovertyProp_PopWeighted              6192 non-null   float64\n",
      " 45  Hospital_TravelTime                  6192 non-null   float64\n",
      " 46  AllHealthFacility_TravelTime         6192 non-null   float64\n",
      "dtypes: float64(38), int64(6), object(3)\n",
      "memory usage: 2.2+ MB\n",
      "None\n"
     ]
    }
   ],
   "source": [
    "print(data.info())"
   ]
  },
  {
   "cell_type": "code",
   "execution_count": 136,
   "id": "ca548d9d",
   "metadata": {},
   "outputs": [
    {
     "name": "stdout",
     "output_type": "stream",
     "text": [
      "LGA                                    0\n",
      "Year                                   0\n",
      "admin1Name                             0\n",
      "Cases                                  0\n",
      "Cases_SuspectedUnconfirmed             0\n",
      "Reports_All                            0\n",
      "Any_Confirmed_Cases                    0\n",
      "Source                                 0\n",
      "NumDiagCentres                         0\n",
      "LabDist                                0\n",
      "LabTravelTime                          0\n",
      "TotalPopulation_ByYear                 0\n",
      "AgriProp_ESA                           0\n",
      "UrbanProp_ESA                          0\n",
      "ForestProp_ESA                         0\n",
      "LGAarea_km2                            0\n",
      "x                                      0\n",
      "y                                      0\n",
      "PrecipMeanAnnual_2011_2019_CHIRPS      0\n",
      "PrecipMeanWettest_2011_2019_CHIRPS     0\n",
      "PrecipMeanDriest_2011_2019_CHIRPS      0\n",
      "PrecipMonthlyCoefv_2011_2019_CHIRPS    0\n",
      "TempMeanAnnual_201119_NOAA             0\n",
      "TempMonthlyCoefv_201118_NOAA           0\n",
      "CHELSA_TempAnnualMean                  0\n",
      "CHELSA_TempSeasonality                 0\n",
      "CHELSA_TempMeanWarmestQ                0\n",
      "CHELSA_PrecipTotalAnnual               0\n",
      "CHELSA_PrecipSeasonality               0\n",
      "CHELSA_PrecipWettestQ                  0\n",
      "CityTravTime_Mean                      0\n",
      "HospitalDist_mean_km                   0\n",
      "HealthFacilityDist_mean_km             0\n",
      "TotalPop2015                           0\n",
      "PopDens2015                            0\n",
      "TotalUrbanPop2015                      0\n",
      "TotalRuralPop2015                      0\n",
      "TotalPop2015_PropUrban                 0\n",
      "ImprovedHousingPrev_PopWeighted        0\n",
      "Cropland_prop_ESA2015                  0\n",
      "Agri_prop_ESA2015                      0\n",
      "Urb_prop_ESA2015                       0\n",
      "Forest_prop_ESA2015                    0\n",
      "PovertyProp_Mean                       0\n",
      "PovertyProp_PopWeighted                0\n",
      "Hospital_TravelTime                    0\n",
      "AllHealthFacility_TravelTime           0\n",
      "dtype: int64\n"
     ]
    }
   ],
   "source": [
    "# 3. Inspect Data\n",
    "print(data.isna().sum())"
   ]
  },
  {
   "cell_type": "code",
   "execution_count": 137,
   "id": "d2d983bf",
   "metadata": {},
   "outputs": [],
   "source": [
    "# Calculate mean cases per LGA\n",
    "lga_mean = data.groupby('LGA')['Cases'].mean().reset_index(name='LGA_Mean_Cases')\n",
    "\n",
    "# Merge into main dataset\n",
    "data = data.merge(lga_mean, on='LGA', how='left')\n",
    "\n",
    "# Outbreak if current cases exceed mean\n",
    "data['LGA_Outbreak'] = (data['Cases'] > data['LGA_Mean_Cases']).astype(int)"
   ]
  },
  {
   "cell_type": "code",
   "execution_count": 138,
   "id": "8edee14f",
   "metadata": {},
   "outputs": [
    {
     "data": {
      "text/html": [
       "<div>\n",
       "<style scoped>\n",
       "    .dataframe tbody tr th:only-of-type {\n",
       "        vertical-align: middle;\n",
       "    }\n",
       "\n",
       "    .dataframe tbody tr th {\n",
       "        vertical-align: top;\n",
       "    }\n",
       "\n",
       "    .dataframe thead th {\n",
       "        text-align: right;\n",
       "    }\n",
       "</style>\n",
       "<table border=\"1\" class=\"dataframe\">\n",
       "  <thead>\n",
       "    <tr style=\"text-align: right;\">\n",
       "      <th></th>\n",
       "      <th>LGA</th>\n",
       "      <th>Year</th>\n",
       "      <th>admin1Name</th>\n",
       "      <th>Cases</th>\n",
       "      <th>Cases_SuspectedUnconfirmed</th>\n",
       "      <th>Reports_All</th>\n",
       "      <th>Any_Confirmed_Cases</th>\n",
       "      <th>Source</th>\n",
       "      <th>NumDiagCentres</th>\n",
       "      <th>LabDist</th>\n",
       "      <th>...</th>\n",
       "      <th>Cropland_prop_ESA2015</th>\n",
       "      <th>Agri_prop_ESA2015</th>\n",
       "      <th>Urb_prop_ESA2015</th>\n",
       "      <th>Forest_prop_ESA2015</th>\n",
       "      <th>PovertyProp_Mean</th>\n",
       "      <th>PovertyProp_PopWeighted</th>\n",
       "      <th>Hospital_TravelTime</th>\n",
       "      <th>AllHealthFacility_TravelTime</th>\n",
       "      <th>LGA_Mean_Cases</th>\n",
       "      <th>LGA_Outbreak</th>\n",
       "    </tr>\n",
       "  </thead>\n",
       "  <tbody>\n",
       "    <tr>\n",
       "      <th>0</th>\n",
       "      <td>Aba North</td>\n",
       "      <td>2012</td>\n",
       "      <td>Abia</td>\n",
       "      <td>0</td>\n",
       "      <td>0</td>\n",
       "      <td>0</td>\n",
       "      <td>0</td>\n",
       "      <td>WER</td>\n",
       "      <td>2</td>\n",
       "      <td>223.150573</td>\n",
       "      <td>...</td>\n",
       "      <td>0.106061</td>\n",
       "      <td>0.151515</td>\n",
       "      <td>0.848485</td>\n",
       "      <td>0.0</td>\n",
       "      <td>0.334344</td>\n",
       "      <td>0.30486</td>\n",
       "      <td>12.473343</td>\n",
       "      <td>1.109442</td>\n",
       "      <td>0.125</td>\n",
       "      <td>0</td>\n",
       "    </tr>\n",
       "    <tr>\n",
       "      <th>1</th>\n",
       "      <td>Aba North</td>\n",
       "      <td>2013</td>\n",
       "      <td>Abia</td>\n",
       "      <td>1</td>\n",
       "      <td>0</td>\n",
       "      <td>1</td>\n",
       "      <td>1</td>\n",
       "      <td>WER</td>\n",
       "      <td>2</td>\n",
       "      <td>223.150573</td>\n",
       "      <td>...</td>\n",
       "      <td>0.106061</td>\n",
       "      <td>0.151515</td>\n",
       "      <td>0.848485</td>\n",
       "      <td>0.0</td>\n",
       "      <td>0.334344</td>\n",
       "      <td>0.30486</td>\n",
       "      <td>12.473343</td>\n",
       "      <td>1.109442</td>\n",
       "      <td>0.125</td>\n",
       "      <td>1</td>\n",
       "    </tr>\n",
       "    <tr>\n",
       "      <th>2</th>\n",
       "      <td>Aba North</td>\n",
       "      <td>2014</td>\n",
       "      <td>Abia</td>\n",
       "      <td>0</td>\n",
       "      <td>0</td>\n",
       "      <td>0</td>\n",
       "      <td>0</td>\n",
       "      <td>WER</td>\n",
       "      <td>2</td>\n",
       "      <td>223.150573</td>\n",
       "      <td>...</td>\n",
       "      <td>0.106061</td>\n",
       "      <td>0.151515</td>\n",
       "      <td>0.848485</td>\n",
       "      <td>0.0</td>\n",
       "      <td>0.334344</td>\n",
       "      <td>0.30486</td>\n",
       "      <td>12.473343</td>\n",
       "      <td>1.109442</td>\n",
       "      <td>0.125</td>\n",
       "      <td>0</td>\n",
       "    </tr>\n",
       "    <tr>\n",
       "      <th>3</th>\n",
       "      <td>Aba North</td>\n",
       "      <td>2015</td>\n",
       "      <td>Abia</td>\n",
       "      <td>0</td>\n",
       "      <td>0</td>\n",
       "      <td>0</td>\n",
       "      <td>0</td>\n",
       "      <td>WER</td>\n",
       "      <td>2</td>\n",
       "      <td>223.150573</td>\n",
       "      <td>...</td>\n",
       "      <td>0.106061</td>\n",
       "      <td>0.151515</td>\n",
       "      <td>0.848485</td>\n",
       "      <td>0.0</td>\n",
       "      <td>0.334344</td>\n",
       "      <td>0.30486</td>\n",
       "      <td>12.473343</td>\n",
       "      <td>1.109442</td>\n",
       "      <td>0.125</td>\n",
       "      <td>0</td>\n",
       "    </tr>\n",
       "    <tr>\n",
       "      <th>4</th>\n",
       "      <td>Aba North</td>\n",
       "      <td>2016</td>\n",
       "      <td>Abia</td>\n",
       "      <td>0</td>\n",
       "      <td>0</td>\n",
       "      <td>0</td>\n",
       "      <td>0</td>\n",
       "      <td>WER</td>\n",
       "      <td>2</td>\n",
       "      <td>223.150573</td>\n",
       "      <td>...</td>\n",
       "      <td>0.106061</td>\n",
       "      <td>0.151515</td>\n",
       "      <td>0.848485</td>\n",
       "      <td>0.0</td>\n",
       "      <td>0.334344</td>\n",
       "      <td>0.30486</td>\n",
       "      <td>12.473343</td>\n",
       "      <td>1.109442</td>\n",
       "      <td>0.125</td>\n",
       "      <td>0</td>\n",
       "    </tr>\n",
       "  </tbody>\n",
       "</table>\n",
       "<p>5 rows × 49 columns</p>\n",
       "</div>"
      ],
      "text/plain": [
       "         LGA  Year admin1Name  Cases  Cases_SuspectedUnconfirmed  Reports_All  \\\n",
       "0  Aba North  2012       Abia      0                           0            0   \n",
       "1  Aba North  2013       Abia      1                           0            1   \n",
       "2  Aba North  2014       Abia      0                           0            0   \n",
       "3  Aba North  2015       Abia      0                           0            0   \n",
       "4  Aba North  2016       Abia      0                           0            0   \n",
       "\n",
       "   Any_Confirmed_Cases Source  NumDiagCentres     LabDist  ...  \\\n",
       "0                    0    WER               2  223.150573  ...   \n",
       "1                    1    WER               2  223.150573  ...   \n",
       "2                    0    WER               2  223.150573  ...   \n",
       "3                    0    WER               2  223.150573  ...   \n",
       "4                    0    WER               2  223.150573  ...   \n",
       "\n",
       "   Cropland_prop_ESA2015  Agri_prop_ESA2015  Urb_prop_ESA2015  \\\n",
       "0               0.106061           0.151515          0.848485   \n",
       "1               0.106061           0.151515          0.848485   \n",
       "2               0.106061           0.151515          0.848485   \n",
       "3               0.106061           0.151515          0.848485   \n",
       "4               0.106061           0.151515          0.848485   \n",
       "\n",
       "   Forest_prop_ESA2015  PovertyProp_Mean  PovertyProp_PopWeighted  \\\n",
       "0                  0.0          0.334344                  0.30486   \n",
       "1                  0.0          0.334344                  0.30486   \n",
       "2                  0.0          0.334344                  0.30486   \n",
       "3                  0.0          0.334344                  0.30486   \n",
       "4                  0.0          0.334344                  0.30486   \n",
       "\n",
       "   Hospital_TravelTime  AllHealthFacility_TravelTime  LGA_Mean_Cases  \\\n",
       "0            12.473343                      1.109442           0.125   \n",
       "1            12.473343                      1.109442           0.125   \n",
       "2            12.473343                      1.109442           0.125   \n",
       "3            12.473343                      1.109442           0.125   \n",
       "4            12.473343                      1.109442           0.125   \n",
       "\n",
       "   LGA_Outbreak  \n",
       "0             0  \n",
       "1             1  \n",
       "2             0  \n",
       "3             0  \n",
       "4             0  \n",
       "\n",
       "[5 rows x 49 columns]"
      ]
     },
     "execution_count": 138,
     "metadata": {},
     "output_type": "execute_result"
    }
   ],
   "source": [
    "data.head()"
   ]
  },
  {
   "cell_type": "code",
   "execution_count": 139,
   "id": "634f99f8",
   "metadata": {},
   "outputs": [],
   "source": [
    "# --- Ensure target variable exists ---\n",
    "# Example: outbreak = 1 if cases > threshold else 0\n",
    "#data['LGA_Outbreak'] = (data['lga_total_cases'] > data['lga_threshold']).astype(int)"
   ]
  },
  {
   "cell_type": "code",
   "execution_count": 140,
   "id": "4f52fcea",
   "metadata": {},
   "outputs": [],
   "source": [
    "\n",
    "# 4. Handle Missing Values\n",
    "\n",
    "# Fill numeric columns with median\n",
    "num_cols = data.select_dtypes(include=np.number).columns\n",
    "for col in num_cols:\n",
    "    data[col] = data[col].fillna(data[col].median())"
   ]
  },
  {
   "cell_type": "code",
   "execution_count": 141,
   "id": "3e3d119f",
   "metadata": {},
   "outputs": [],
   "source": [
    "# Fill categorical columns with mode\n",
    "cat_cols = data.select_dtypes(exclude=np.number).columns\n",
    "for col in cat_cols:\n",
    "    data[col] = data[col].fillna(data[col].mode()[0])"
   ]
  },
  {
   "cell_type": "code",
   "execution_count": 142,
   "id": "e2d31139",
   "metadata": {},
   "outputs": [],
   "source": [
    "# 5. Encode Categorical Features\n",
    "label_encoders = {}\n",
    "for col in cat_cols:\n",
    "    le = LabelEncoder()\n",
    "    data[col] = le.fit_transform(data[col])\n",
    "    label_encoders[col] = le"
   ]
  },
  {
   "cell_type": "code",
   "execution_count": 143,
   "id": "ae6a0a80",
   "metadata": {},
   "outputs": [
    {
     "data": {
      "text/html": [
       "<div>\n",
       "<style scoped>\n",
       "    .dataframe tbody tr th:only-of-type {\n",
       "        vertical-align: middle;\n",
       "    }\n",
       "\n",
       "    .dataframe tbody tr th {\n",
       "        vertical-align: top;\n",
       "    }\n",
       "\n",
       "    .dataframe thead th {\n",
       "        text-align: right;\n",
       "    }\n",
       "</style>\n",
       "<table border=\"1\" class=\"dataframe\">\n",
       "  <thead>\n",
       "    <tr style=\"text-align: right;\">\n",
       "      <th></th>\n",
       "      <th>LGA</th>\n",
       "      <th>Year</th>\n",
       "      <th>admin1Name</th>\n",
       "      <th>Cases</th>\n",
       "      <th>Cases_SuspectedUnconfirmed</th>\n",
       "      <th>Reports_All</th>\n",
       "      <th>Any_Confirmed_Cases</th>\n",
       "      <th>Source</th>\n",
       "      <th>NumDiagCentres</th>\n",
       "      <th>LabDist</th>\n",
       "      <th>...</th>\n",
       "      <th>Cropland_prop_ESA2015</th>\n",
       "      <th>Agri_prop_ESA2015</th>\n",
       "      <th>Urb_prop_ESA2015</th>\n",
       "      <th>Forest_prop_ESA2015</th>\n",
       "      <th>PovertyProp_Mean</th>\n",
       "      <th>PovertyProp_PopWeighted</th>\n",
       "      <th>Hospital_TravelTime</th>\n",
       "      <th>AllHealthFacility_TravelTime</th>\n",
       "      <th>LGA_Mean_Cases</th>\n",
       "      <th>LGA_Outbreak</th>\n",
       "    </tr>\n",
       "  </thead>\n",
       "  <tbody>\n",
       "    <tr>\n",
       "      <th>0</th>\n",
       "      <td>0</td>\n",
       "      <td>2012</td>\n",
       "      <td>0</td>\n",
       "      <td>0</td>\n",
       "      <td>0</td>\n",
       "      <td>0</td>\n",
       "      <td>0</td>\n",
       "      <td>2</td>\n",
       "      <td>2</td>\n",
       "      <td>223.150573</td>\n",
       "      <td>...</td>\n",
       "      <td>0.106061</td>\n",
       "      <td>0.151515</td>\n",
       "      <td>0.848485</td>\n",
       "      <td>0.0</td>\n",
       "      <td>0.334344</td>\n",
       "      <td>0.30486</td>\n",
       "      <td>12.473343</td>\n",
       "      <td>1.109442</td>\n",
       "      <td>0.125</td>\n",
       "      <td>0</td>\n",
       "    </tr>\n",
       "    <tr>\n",
       "      <th>1</th>\n",
       "      <td>0</td>\n",
       "      <td>2013</td>\n",
       "      <td>0</td>\n",
       "      <td>1</td>\n",
       "      <td>0</td>\n",
       "      <td>1</td>\n",
       "      <td>1</td>\n",
       "      <td>2</td>\n",
       "      <td>2</td>\n",
       "      <td>223.150573</td>\n",
       "      <td>...</td>\n",
       "      <td>0.106061</td>\n",
       "      <td>0.151515</td>\n",
       "      <td>0.848485</td>\n",
       "      <td>0.0</td>\n",
       "      <td>0.334344</td>\n",
       "      <td>0.30486</td>\n",
       "      <td>12.473343</td>\n",
       "      <td>1.109442</td>\n",
       "      <td>0.125</td>\n",
       "      <td>1</td>\n",
       "    </tr>\n",
       "    <tr>\n",
       "      <th>2</th>\n",
       "      <td>0</td>\n",
       "      <td>2014</td>\n",
       "      <td>0</td>\n",
       "      <td>0</td>\n",
       "      <td>0</td>\n",
       "      <td>0</td>\n",
       "      <td>0</td>\n",
       "      <td>2</td>\n",
       "      <td>2</td>\n",
       "      <td>223.150573</td>\n",
       "      <td>...</td>\n",
       "      <td>0.106061</td>\n",
       "      <td>0.151515</td>\n",
       "      <td>0.848485</td>\n",
       "      <td>0.0</td>\n",
       "      <td>0.334344</td>\n",
       "      <td>0.30486</td>\n",
       "      <td>12.473343</td>\n",
       "      <td>1.109442</td>\n",
       "      <td>0.125</td>\n",
       "      <td>0</td>\n",
       "    </tr>\n",
       "    <tr>\n",
       "      <th>3</th>\n",
       "      <td>0</td>\n",
       "      <td>2015</td>\n",
       "      <td>0</td>\n",
       "      <td>0</td>\n",
       "      <td>0</td>\n",
       "      <td>0</td>\n",
       "      <td>0</td>\n",
       "      <td>2</td>\n",
       "      <td>2</td>\n",
       "      <td>223.150573</td>\n",
       "      <td>...</td>\n",
       "      <td>0.106061</td>\n",
       "      <td>0.151515</td>\n",
       "      <td>0.848485</td>\n",
       "      <td>0.0</td>\n",
       "      <td>0.334344</td>\n",
       "      <td>0.30486</td>\n",
       "      <td>12.473343</td>\n",
       "      <td>1.109442</td>\n",
       "      <td>0.125</td>\n",
       "      <td>0</td>\n",
       "    </tr>\n",
       "    <tr>\n",
       "      <th>4</th>\n",
       "      <td>0</td>\n",
       "      <td>2016</td>\n",
       "      <td>0</td>\n",
       "      <td>0</td>\n",
       "      <td>0</td>\n",
       "      <td>0</td>\n",
       "      <td>0</td>\n",
       "      <td>2</td>\n",
       "      <td>2</td>\n",
       "      <td>223.150573</td>\n",
       "      <td>...</td>\n",
       "      <td>0.106061</td>\n",
       "      <td>0.151515</td>\n",
       "      <td>0.848485</td>\n",
       "      <td>0.0</td>\n",
       "      <td>0.334344</td>\n",
       "      <td>0.30486</td>\n",
       "      <td>12.473343</td>\n",
       "      <td>1.109442</td>\n",
       "      <td>0.125</td>\n",
       "      <td>0</td>\n",
       "    </tr>\n",
       "  </tbody>\n",
       "</table>\n",
       "<p>5 rows × 49 columns</p>\n",
       "</div>"
      ],
      "text/plain": [
       "   LGA  Year  admin1Name  Cases  Cases_SuspectedUnconfirmed  Reports_All  \\\n",
       "0    0  2012           0      0                           0            0   \n",
       "1    0  2013           0      1                           0            1   \n",
       "2    0  2014           0      0                           0            0   \n",
       "3    0  2015           0      0                           0            0   \n",
       "4    0  2016           0      0                           0            0   \n",
       "\n",
       "   Any_Confirmed_Cases  Source  NumDiagCentres     LabDist  ...  \\\n",
       "0                    0       2               2  223.150573  ...   \n",
       "1                    1       2               2  223.150573  ...   \n",
       "2                    0       2               2  223.150573  ...   \n",
       "3                    0       2               2  223.150573  ...   \n",
       "4                    0       2               2  223.150573  ...   \n",
       "\n",
       "   Cropland_prop_ESA2015  Agri_prop_ESA2015  Urb_prop_ESA2015  \\\n",
       "0               0.106061           0.151515          0.848485   \n",
       "1               0.106061           0.151515          0.848485   \n",
       "2               0.106061           0.151515          0.848485   \n",
       "3               0.106061           0.151515          0.848485   \n",
       "4               0.106061           0.151515          0.848485   \n",
       "\n",
       "   Forest_prop_ESA2015  PovertyProp_Mean  PovertyProp_PopWeighted  \\\n",
       "0                  0.0          0.334344                  0.30486   \n",
       "1                  0.0          0.334344                  0.30486   \n",
       "2                  0.0          0.334344                  0.30486   \n",
       "3                  0.0          0.334344                  0.30486   \n",
       "4                  0.0          0.334344                  0.30486   \n",
       "\n",
       "   Hospital_TravelTime  AllHealthFacility_TravelTime  LGA_Mean_Cases  \\\n",
       "0            12.473343                      1.109442           0.125   \n",
       "1            12.473343                      1.109442           0.125   \n",
       "2            12.473343                      1.109442           0.125   \n",
       "3            12.473343                      1.109442           0.125   \n",
       "4            12.473343                      1.109442           0.125   \n",
       "\n",
       "   LGA_Outbreak  \n",
       "0             0  \n",
       "1             1  \n",
       "2             0  \n",
       "3             0  \n",
       "4             0  \n",
       "\n",
       "[5 rows x 49 columns]"
      ]
     },
     "execution_count": 143,
     "metadata": {},
     "output_type": "execute_result"
    }
   ],
   "source": [
    "data.head()"
   ]
  },
  {
   "cell_type": "code",
   "execution_count": 144,
   "id": "ea919e18",
   "metadata": {},
   "outputs": [],
   "source": [
    "selected_features = [\n",
    "    'Cases', 'Any_Confirmed_Cases', 'Reports_All', 'LGA_Mean_Cases',\n",
    "    'Cases_SuspectedUnconfirmed', 'Year', 'NumDiagCentres', 'LabDist',\n",
    "    'Source', 'TotalPopulation_ByYear', 'LabTravelTime', 'AgriProp_ESA',\n",
    "    'ForestProp_ESA', 'UrbanProp_ESA', 'TempMeanAnnual_201119_NOAA',\n",
    "    'CHELSA_PrecipTotalAnnual', 'TotalRuralPop2015', 'CHELSA_TempAnnualMean',\n",
    "    'CHELSA_PrecipWettestQ'\n",
    "]"
   ]
  },
  {
   "cell_type": "code",
   "execution_count": 145,
   "id": "11bee2cd",
   "metadata": {},
   "outputs": [],
   "source": [
    "# 6. Define Features and Target\n",
    "X = data[selected_features]\n",
    "y = data[\"LGA_Outbreak\"]"
   ]
  },
  {
   "cell_type": "code",
   "execution_count": 146,
   "id": "137e1779",
   "metadata": {},
   "outputs": [],
   "source": [
    "# 7. Train-Test Split\n",
    "X_train, X_test, y_train, y_test = train_test_split(\n",
    "    X, y, test_size=0.2, random_state=42, stratify=y\n",
    ")"
   ]
  },
  {
   "cell_type": "code",
   "execution_count": 147,
   "id": "c3092917",
   "metadata": {},
   "outputs": [],
   "source": [
    "#X_train[selected_features]"
   ]
  },
  {
   "cell_type": "code",
   "execution_count": 148,
   "id": "b4236fa6",
   "metadata": {},
   "outputs": [],
   "source": [
    "# 8. Feature Scaling for SVM\n",
    "scaler = StandardScaler()\n",
    "X_train_scaled = scaler.fit_transform(X_train)\n",
    "X_test_scaled = scaler.transform(X_test)"
   ]
  },
  {
   "cell_type": "code",
   "execution_count": 149,
   "id": "e9d21dae",
   "metadata": {},
   "outputs": [],
   "source": [
    "# --- 4. Train models ---\n",
    "dt = DecisionTreeClassifier(random_state=42)"
   ]
  },
  {
   "cell_type": "code",
   "execution_count": 150,
   "id": "60e79166",
   "metadata": {},
   "outputs": [],
   "source": [
    "rf = RandomForestClassifier(random_state=42)"
   ]
  },
  {
   "cell_type": "code",
   "execution_count": 151,
   "id": "76ab6598",
   "metadata": {},
   "outputs": [],
   "source": [
    "svm_model = SVC(kernel='linear', random_state=42)"
   ]
  },
  {
   "cell_type": "code",
   "execution_count": null,
   "id": "c9ca8f71",
   "metadata": {},
   "outputs": [],
   "source": []
  },
  {
   "cell_type": "code",
   "execution_count": 152,
   "id": "bda0d67e",
   "metadata": {},
   "outputs": [
    {
     "data": {
      "text/plain": [
       "RandomForestClassifier(random_state=42)"
      ]
     },
     "execution_count": 152,
     "metadata": {},
     "output_type": "execute_result"
    }
   ],
   "source": [
    "rf.fit(X_train, y_train)"
   ]
  },
  {
   "cell_type": "code",
   "execution_count": 153,
   "id": "15fec413",
   "metadata": {},
   "outputs": [
    {
     "data": {
      "text/plain": [
       "DecisionTreeClassifier(random_state=42)"
      ]
     },
     "execution_count": 153,
     "metadata": {},
     "output_type": "execute_result"
    }
   ],
   "source": [
    "dt.fit(X_train, y_train)"
   ]
  },
  {
   "cell_type": "code",
   "execution_count": 154,
   "id": "29841042",
   "metadata": {},
   "outputs": [
    {
     "data": {
      "text/plain": [
       "SVC(kernel='linear', random_state=42)"
      ]
     },
     "execution_count": 154,
     "metadata": {},
     "output_type": "execute_result"
    }
   ],
   "source": [
    "svm_model.fit(X_train_scaled, y_train)"
   ]
  },
  {
   "cell_type": "code",
   "execution_count": 155,
   "id": "cce06022",
   "metadata": {},
   "outputs": [],
   "source": [
    "# --- 5. Predictions ---\n",
    "y_pred_rf = rf.predict(X_test)"
   ]
  },
  {
   "cell_type": "code",
   "execution_count": 156,
   "id": "78f4fb92",
   "metadata": {},
   "outputs": [],
   "source": [
    "y_pred_dt = dt.predict(X_test)"
   ]
  },
  {
   "cell_type": "code",
   "execution_count": 157,
   "id": "19660985",
   "metadata": {},
   "outputs": [],
   "source": [
    "y_pred_svm = svm_model.predict(X_test_scaled)"
   ]
  },
  {
   "cell_type": "code",
   "execution_count": 158,
   "id": "4285ae77",
   "metadata": {},
   "outputs": [],
   "source": [
    "import seaborn as sns\n",
    "import matplotlib.pyplot as plt\n",
    "from sklearn.metrics import confusion_matrix\n",
    "\n",
    "# Function to plot confusion matrix using seaborn heatmap\n",
    "def plot_cm(y_true, y_pred, title):\n",
    "    cm = confusion_matrix(y_true, y_pred)\n",
    "    sns.heatmap(cm, annot=True, fmt='d', cmap='Blues',\n",
    "                xticklabels=['No Outbreak', 'Outbreak'],\n",
    "                yticklabels=['No Outbreak', 'Outbreak'])\n",
    "    plt.xlabel(\"Predicted\")\n",
    "    plt.ylabel(\"Actual\")\n",
    "    plt.title(title)\n",
    "    plt.show()"
   ]
  },
  {
   "cell_type": "code",
   "execution_count": 159,
   "id": "2979105d",
   "metadata": {},
   "outputs": [
    {
     "data": {
      "image/png": "[encoded data removed]",
      "text/plain": [
       "<Figure size 640x480 with 2 Axes>"
      ]
     },
     "metadata": {},
     "output_type": "display_data"
    }
   ],
   "source": [
    "# Plot for each model\n",
    "plot_cm(y_test, y_pred_rf, \"Random Forest - Confusion Matrix\")"
   ]
  },
  {
   "cell_type": "code",
   "execution_count": 160,
   "id": "442c3335",
   "metadata": {},
   "outputs": [
    {
     "name": "stdout",
     "output_type": "stream",
     "text": [
      "              precision    recall  f1-score   support\n",
      "\n",
      "           0       1.00      1.00      1.00      1183\n",
      "           1       0.94      0.91      0.93        56\n",
      "\n",
      "    accuracy                           0.99      1239\n",
      "   macro avg       0.97      0.95      0.96      1239\n",
      "weighted avg       0.99      0.99      0.99      1239\n",
      "\n"
     ]
    }
   ],
   "source": [
    "from sklearn.metrics import classification_report\n",
    "\n",
    "print(classification_report(y_test, y_pred_rf))"
   ]
  },
  {
   "cell_type": "code",
   "execution_count": 161,
   "id": "8ff16bc6",
   "metadata": {},
   "outputs": [
    {
     "name": "stdout",
     "output_type": "stream",
     "text": [
      "0.993543179983858\n"
     ]
    }
   ],
   "source": [
    "print(accuracy_score(y_test, y_pred_rf))"
   ]
  },
  {
   "cell_type": "code",
   "execution_count": 162,
   "id": "ada681d5",
   "metadata": {},
   "outputs": [
    {
     "data": {
      "image/png": "[encoded data removed]",
      "text/plain": [
       "<Figure size 640x480 with 2 Axes>"
      ]
     },
     "metadata": {},
     "output_type": "display_data"
    }
   ],
   "source": [
    "plot_cm(y_test, y_pred_dt, \"Decision Tree - Confusion Matrix\")"
   ]
  },
  {
   "cell_type": "code",
   "execution_count": 163,
   "id": "ee1ae31f",
   "metadata": {},
   "outputs": [
    {
     "name": "stdout",
     "output_type": "stream",
     "text": [
      "              precision    recall  f1-score   support\n",
      "\n",
      "           0       1.00      1.00      1.00      1183\n",
      "           1       0.98      0.91      0.94        56\n",
      "\n",
      "    accuracy                           1.00      1239\n",
      "   macro avg       0.99      0.95      0.97      1239\n",
      "weighted avg       1.00      1.00      1.00      1239\n",
      "\n"
     ]
    }
   ],
   "source": [
    "from sklearn.metrics import classification_report\n",
    "\n",
    "print(classification_report(y_test, y_pred_dt))"
   ]
  },
  {
   "cell_type": "code",
   "execution_count": 164,
   "id": "11dab270",
   "metadata": {},
   "outputs": [
    {
     "name": "stdout",
     "output_type": "stream",
     "text": [
      "0.9951573849878934\n"
     ]
    }
   ],
   "source": [
    "print(accuracy_score(y_test, y_pred_dt))"
   ]
  },
  {
   "cell_type": "code",
   "execution_count": 165,
   "id": "f17e164b",
   "metadata": {},
   "outputs": [
    {
     "data": {
      "image/png": "[encoded data removed]",
      "text/plain": [
       "<Figure size 640x480 with 2 Axes>"
      ]
     },
     "metadata": {},
     "output_type": "display_data"
    }
   ],
   "source": [
    "plot_cm(y_test, y_pred_svm, \"SVM - Confusion Matrix\")"
   ]
  },
  {
   "cell_type": "code",
   "execution_count": 166,
   "id": "0980988a",
   "metadata": {},
   "outputs": [
    {
     "name": "stdout",
     "output_type": "stream",
     "text": [
      "              precision    recall  f1-score   support\n",
      "\n",
      "           0       1.00      1.00      1.00      1183\n",
      "           1       0.97      1.00      0.98        56\n",
      "\n",
      "    accuracy                           1.00      1239\n",
      "   macro avg       0.98      1.00      0.99      1239\n",
      "weighted avg       1.00      1.00      1.00      1239\n",
      "\n"
     ]
    }
   ],
   "source": [
    "from sklearn.metrics import classification_report\n",
    "\n",
    "print(classification_report(y_test, y_pred_svm))"
   ]
  },
  {
   "cell_type": "code",
   "execution_count": 167,
   "id": "9513b65f",
   "metadata": {},
   "outputs": [],
   "source": [
    "acc = accuracy_score(y_test, y_pred_svm)"
   ]
  },
  {
   "cell_type": "code",
   "execution_count": 168,
   "id": "9b6f0d02",
   "metadata": {},
   "outputs": [
    {
     "data": {
      "text/plain": [
       "0.9983857949959645"
      ]
     },
     "execution_count": 168,
     "metadata": {},
     "output_type": "execute_result"
    }
   ],
   "source": [
    "acc"
   ]
  },
  {
   "cell_type": "code",
   "execution_count": null,
   "id": "a8117f5b",
   "metadata": {},
   "outputs": [],
   "source": []
  },
  {
   "cell_type": "code",
   "execution_count": 169,
   "id": "72653dac",
   "metadata": {},
   "outputs": [
    {
     "data": {
      "image/png": "[encoded data removed]",
      "text/plain": [
       "<Figure size 1200x600 with 1 Axes>"
      ]
     },
     "metadata": {},
     "output_type": "display_data"
    }
   ],
   "source": [
    "# 11. Feature Importance (Random Forest & Decision Tree)\n",
    "plt.figure(figsize=(12, 6))\n",
    "importances = rf.feature_importances_\n",
    "indices = np.argsort(importances)[::-1]\n",
    "plt.bar(range(X.shape[1]), importances[indices], align=\"center\")\n",
    "plt.xticks(range(X.shape[1]), X.columns[indices], rotation=90)\n",
    "plt.title(\"Random Forest Feature Importance\")\n",
    "plt.tight_layout()\n",
    "plt.show()"
   ]
  },
  {
   "cell_type": "code",
   "execution_count": 170,
   "id": "af98bb9b",
   "metadata": {},
   "outputs": [
    {
     "data": {
      "image/png": "[encoded data removed]",
      "text/plain": [
       "<Figure size 1200x600 with 1 Axes>"
      ]
     },
     "metadata": {},
     "output_type": "display_data"
    }
   ],
   "source": [
    "plt.figure(figsize=(12, 6))\n",
    "importances_dt = dt.feature_importances_\n",
    "indices_dt = np.argsort(importances_dt)[::-1]\n",
    "plt.bar(range(X.shape[1]), importances_dt[indices_dt], align=\"center\", color=\"orange\")\n",
    "plt.xticks(range(X.shape[1]), X.columns[indices_dt], rotation=90)\n",
    "plt.title(\"Decision Tree Feature Importance\")\n",
    "plt.tight_layout()\n",
    "plt.show()\n"
   ]
  },
  {
   "cell_type": "code",
   "execution_count": 171,
   "id": "1a8caccf",
   "metadata": {},
   "outputs": [],
   "source": [
    "import pickle\n",
    "\n",
    "#Save the model \n",
    "with open(\"svm_model.pkl\", \"wb\") as f:\n",
    "    pickle.dump(svm_model, f)"
   ]
  },
  {
   "cell_type": "code",
   "execution_count": 172,
   "id": "ead34494",
   "metadata": {},
   "outputs": [],
   "source": [
    "#Load the model \n",
    "with open(\"svm_model.pkl\", \"rb\") as f:\n",
    "    loaded_svm = pickle.load(f)"
   ]
  },
  {
   "cell_type": "code",
   "execution_count": 173,
   "id": "a138b4c0",
   "metadata": {},
   "outputs": [
    {
     "name": "stderr",
     "output_type": "stream",
     "text": [
      "C:\\Users\\user\\anaconda3\\lib\\site-packages\\sklearn\\base.py:443: UserWarning: X has feature names, but SVC was fitted without feature names\n",
      "  warnings.warn(\n"
     ]
    }
   ],
   "source": [
    "# Example prediction\n",
    "y_pred = loaded_svm.predict(X_test)\n"
   ]
  },
  {
   "cell_type": "code",
   "execution_count": 174,
   "id": "749b87a1",
   "metadata": {},
   "outputs": [],
   "source": [
    "#pip install streamlit"
   ]
  },
  {
   "cell_type": "code",
   "execution_count": 175,
   "id": "c7220852",
   "metadata": {},
   "outputs": [],
   "source": [
    "# Save the model ----\n",
    "with open(\"svm_model.pkl\", \"wb\") as f:\n",
    "    pickle.dump(svm_model, f)"
   ]
  },
  {
   "cell_type": "code",
   "execution_count": 176,
   "id": "991f9ab3",
   "metadata": {},
   "outputs": [],
   "source": [
    "# Load the model\n",
    "with open(\"svm_model.pkl\", \"rb\") as f:\n",
    "    loaded_svm = pickle.load(f)\n"
   ]
  },
  {
   "cell_type": "code",
   "execution_count": 177,
   "id": "bec5eeee",
   "metadata": {},
   "outputs": [],
   "source": [
    "# Save scaler\n",
    "with open(\"scaler.pkl\", \"wb\") as f:\n",
    "    pickle.dump(scaler, f)"
   ]
  },
  {
   "cell_type": "code",
   "execution_count": null,
   "id": "950eee64",
   "metadata": {},
   "outputs": [],
   "source": []
  },
  {
   "cell_type": "code",
   "execution_count": null,
   "id": "72c2931e",
   "metadata": {},
   "outputs": [],
   "source": []
  }
 ],
 "metadata": {
  "kernelspec": {
   "display_name": "Python 3 (ipykernel)",
   "language": "python",
   "name": "python3"
  },
  "language_info": {
   "codemirror_mode": {
    "name": "ipython",
    "version": 3
   },
   "file_extension": ".py",
   "mimetype": "text/x-python",
   "name": "python",
   "nbconvert_exporter": "python",
   "pygments_lexer": "ipython3",
   "version": "3.9.13"
  }
 },
 "nbformat": 4,
 "nbformat_minor": 5
}
